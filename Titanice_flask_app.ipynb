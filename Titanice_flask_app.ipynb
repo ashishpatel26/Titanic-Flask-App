{
 "cells": [
  {
   "cell_type": "code",
   "execution_count": 3,
   "metadata": {
    "collapsed": true
   },
   "outputs": [],
   "source": [
    "import pandas as pd\n",
    "import numpy as np\n",
    "from sklearn.preprocessing import LabelEncoder\n",
    "from sklearn.model_selection import train_test_split\n",
    "from sklearn.ensemble import RandomForestClassifier\n",
    "from sklearn.metrics import confusion_matrix\n",
    "from sklearn.metrics import f1_score"
   ]
  },
  {
   "cell_type": "code",
   "execution_count": 4,
   "metadata": {
    "collapsed": true
   },
   "outputs": [],
   "source": [
    "df = pd.read_csv(\"./data/titanic.csv\")\n",
    "predictors = ['Pclass','Sex', 'Age', 'SibSp', 'Parch', 'Fare', 'Embarked']\n",
    "label = 'Survived'\n",
    "cabin_fillna = 'NA'\n",
    "df.Cabin = df.Cabin.fillna(cabin_fillna)\n",
    "\n",
    "df_train, df_test, y_train, y_test = train_test_split(df[predictors], df[label], test_size=0.20, random_state=42)"
   ]
  },
  {
   "cell_type": "code",
   "execution_count": 5,
   "metadata": {
    "collapsed": true
   },
   "outputs": [],
   "source": [
    "age_fillna = df_train.Age.mean()\n",
    "embarked_fillna = df_train.Embarked.value_counts().index[0]\n",
    "\n",
    "\n",
    "df_train.Age = df_train.Age.fillna(df.Age.mean())\n",
    "df_train.Embarked = df_train.Embarked.fillna(embarked_fillna)\n",
    "\n",
    "df_test.Age = df_test.Age.fillna(df.Age.mean())\n",
    "df_test.Embarked = df_test.Embarked.fillna(embarked_fillna)"
   ]
  },
  {
   "cell_type": "code",
   "execution_count": 6,
   "metadata": {
    "collapsed": true
   },
   "outputs": [],
   "source": [
    "le = dict()\n",
    "for column in df_train.columns:\n",
    "    if df_train[column].dtype == np.object:\n",
    "        le[column] = LabelEncoder()\n",
    "        df_train[column] = le[column].fit_transform(df_train[column])\n",
    "        \n",
    "for column in df_test.columns:\n",
    "    if df_test[column].dtype == np.object:\n",
    "        df_test[column] = le[column].transform(df_test[column])"
   ]
  },
  {
   "cell_type": "code",
   "execution_count": 8,
   "metadata": {},
   "outputs": [
    {
     "name": "stdout",
     "output_type": "stream",
     "text": [
      "[[87 18]\n",
      " [19 55]]\n",
      "0.748299319728\n"
     ]
    }
   ],
   "source": [
    "model = RandomForestClassifier(n_estimators=25, random_state=42)\n",
    "model.fit(X=df_train, y=y_train)\n",
    "# y_pred = model.predict(X=df_test)\n",
    "# print(confusion_matrix(y_test, y_pred))\n",
    "# print(f1_score(y_test, y_pred))\n",
    "from sklearn.externals import joblib\n",
    "joblib.dump(model, './model/model.pkl') "
   ]
  },
  {
   "cell_type": "code",
   "execution_count": 142,
   "metadata": {},
   "outputs": [
    {
     "data": {
      "text/plain": [
       "{'prediction': '0', 'results': 'Success'}"
      ]
     },
     "execution_count": 142,
     "metadata": {},
     "output_type": "execute_result"
    }
   ],
   "source": [
    "import requests, json\n",
    "url = 'http://localhost:8080/predict'\n",
    "data = {'Pclass':3, 'Sex':1, 'Age':29.699, 'SibSp':1, 'Parch':1, 'Fare':15.24, 'Embarked':0}\n",
    "# r = requests.post(url, data)\n",
    "r = requests.post(url, json=json.dumps(data))\n",
    "r.json()"
   ]
  }
 ],
 "metadata": {
  "kernelspec": {
   "display_name": "Python 3",
   "language": "python",
   "name": "python3"
  },
  "language_info": {
   "codemirror_mode": {
    "name": "ipython",
    "version": 3
   },
   "file_extension": ".py",
   "mimetype": "text/x-python",
   "name": "python",
   "nbconvert_exporter": "python",
   "pygments_lexer": "ipython3",
   "version": "3.6.2"
  }
 },
 "nbformat": 4,
 "nbformat_minor": 2
}
