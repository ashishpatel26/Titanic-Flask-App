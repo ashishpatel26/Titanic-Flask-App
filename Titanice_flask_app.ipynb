{
 "cells": [
  {
   "cell_type": "code",
   "execution_count": 1,
   "metadata": {
    "collapsed": true
   },
   "outputs": [],
   "source": [
    "import pandas as pd\n",
    "import numpy as np\n",
    "from sklearn.preprocessing import LabelEncoder\n",
    "from sklearn.model_selection import train_test_split\n",
    "from sklearn.ensemble import RandomForestClassifier\n",
    "from sklearn.metrics import confusion_matrix\n",
    "from sklearn.metrics import f1_score"
   ]
  },
  {
   "cell_type": "code",
   "execution_count": 31,
   "metadata": {},
   "outputs": [
    {
     "data": {
      "text/html": [
       "<div>\n",
       "<style scoped>\n",
       "    .dataframe tbody tr th:only-of-type {\n",
       "        vertical-align: middle;\n",
       "    }\n",
       "\n",
       "    .dataframe tbody tr th {\n",
       "        vertical-align: top;\n",
       "    }\n",
       "\n",
       "    .dataframe thead th {\n",
       "        text-align: right;\n",
       "    }\n",
       "</style>\n",
       "<table border=\"1\" class=\"dataframe\">\n",
       "  <thead>\n",
       "    <tr style=\"text-align: right;\">\n",
       "      <th></th>\n",
       "      <th>PassengerId</th>\n",
       "      <th>Pclass</th>\n",
       "      <th>Name</th>\n",
       "      <th>Sex</th>\n",
       "      <th>Age</th>\n",
       "      <th>SibSp</th>\n",
       "      <th>Parch</th>\n",
       "      <th>Ticket</th>\n",
       "      <th>Fare</th>\n",
       "      <th>Cabin</th>\n",
       "      <th>Embarked</th>\n",
       "      <th>Survived</th>\n",
       "    </tr>\n",
       "  </thead>\n",
       "  <tbody>\n",
       "    <tr>\n",
       "      <th>0</th>\n",
       "      <td>1</td>\n",
       "      <td>3</td>\n",
       "      <td>Braund, Mr. Owen Harris</td>\n",
       "      <td>male</td>\n",
       "      <td>22.0</td>\n",
       "      <td>1</td>\n",
       "      <td>0</td>\n",
       "      <td>A/5 21171</td>\n",
       "      <td>7.2500</td>\n",
       "      <td>NaN</td>\n",
       "      <td>S</td>\n",
       "      <td>0</td>\n",
       "    </tr>\n",
       "    <tr>\n",
       "      <th>1</th>\n",
       "      <td>2</td>\n",
       "      <td>1</td>\n",
       "      <td>Cumings, Mrs. John Bradley (Florence Briggs Th...</td>\n",
       "      <td>female</td>\n",
       "      <td>38.0</td>\n",
       "      <td>1</td>\n",
       "      <td>0</td>\n",
       "      <td>PC 17599</td>\n",
       "      <td>71.2833</td>\n",
       "      <td>C85</td>\n",
       "      <td>C</td>\n",
       "      <td>1</td>\n",
       "    </tr>\n",
       "    <tr>\n",
       "      <th>2</th>\n",
       "      <td>3</td>\n",
       "      <td>3</td>\n",
       "      <td>Heikkinen, Miss. Laina</td>\n",
       "      <td>female</td>\n",
       "      <td>26.0</td>\n",
       "      <td>0</td>\n",
       "      <td>0</td>\n",
       "      <td>STON/O2. 3101282</td>\n",
       "      <td>7.9250</td>\n",
       "      <td>NaN</td>\n",
       "      <td>S</td>\n",
       "      <td>1</td>\n",
       "    </tr>\n",
       "    <tr>\n",
       "      <th>3</th>\n",
       "      <td>4</td>\n",
       "      <td>1</td>\n",
       "      <td>Futrelle, Mrs. Jacques Heath (Lily May Peel)</td>\n",
       "      <td>female</td>\n",
       "      <td>35.0</td>\n",
       "      <td>1</td>\n",
       "      <td>0</td>\n",
       "      <td>113803</td>\n",
       "      <td>53.1000</td>\n",
       "      <td>C123</td>\n",
       "      <td>S</td>\n",
       "      <td>1</td>\n",
       "    </tr>\n",
       "    <tr>\n",
       "      <th>4</th>\n",
       "      <td>5</td>\n",
       "      <td>3</td>\n",
       "      <td>Allen, Mr. William Henry</td>\n",
       "      <td>male</td>\n",
       "      <td>35.0</td>\n",
       "      <td>0</td>\n",
       "      <td>0</td>\n",
       "      <td>373450</td>\n",
       "      <td>8.0500</td>\n",
       "      <td>NaN</td>\n",
       "      <td>S</td>\n",
       "      <td>0</td>\n",
       "    </tr>\n",
       "  </tbody>\n",
       "</table>\n",
       "</div>"
      ],
      "text/plain": [
       "   PassengerId  Pclass                                               Name  \\\n",
       "0            1       3                            Braund, Mr. Owen Harris   \n",
       "1            2       1  Cumings, Mrs. John Bradley (Florence Briggs Th...   \n",
       "2            3       3                             Heikkinen, Miss. Laina   \n",
       "3            4       1       Futrelle, Mrs. Jacques Heath (Lily May Peel)   \n",
       "4            5       3                           Allen, Mr. William Henry   \n",
       "\n",
       "      Sex   Age  SibSp  Parch            Ticket     Fare Cabin Embarked  \\\n",
       "0    male  22.0      1      0         A/5 21171   7.2500   NaN        S   \n",
       "1  female  38.0      1      0          PC 17599  71.2833   C85        C   \n",
       "2  female  26.0      0      0  STON/O2. 3101282   7.9250   NaN        S   \n",
       "3  female  35.0      1      0            113803  53.1000  C123        S   \n",
       "4    male  35.0      0      0            373450   8.0500   NaN        S   \n",
       "\n",
       "   Survived  \n",
       "0         0  \n",
       "1         1  \n",
       "2         1  \n",
       "3         1  \n",
       "4         0  "
      ]
     },
     "execution_count": 31,
     "metadata": {},
     "output_type": "execute_result"
    }
   ],
   "source": [
    "df = pd.read_csv(\"./data/titanic.csv\")\n",
    "df.head()"
   ]
  },
  {
   "cell_type": "code",
   "execution_count": 36,
   "metadata": {},
   "outputs": [
    {
     "data": {
      "text/plain": [
       "'male'"
      ]
     },
     "execution_count": 36,
     "metadata": {},
     "output_type": "execute_result"
    }
   ],
   "source": [
    "le['Sex'].inverse_transform(1)"
   ]
  },
  {
   "cell_type": "code",
   "execution_count": 2,
   "metadata": {
    "collapsed": true
   },
   "outputs": [],
   "source": [
    "df = pd.read_csv(\"./data/titanic.csv\")\n",
    "predictors = ['Pclass','Sex', 'Age', 'SibSp', 'Parch', 'Fare', 'Embarked']\n",
    "label = 'Survived'\n",
    "cabin_fillna = 'NA'\n",
    "df.Cabin = df.Cabin.fillna(cabin_fillna)\n",
    "\n",
    "df_train, df_test, y_train, y_test = train_test_split(df[predictors], df[label], test_size=0.20, random_state=42)"
   ]
  },
  {
   "cell_type": "code",
   "execution_count": 3,
   "metadata": {
    "collapsed": true
   },
   "outputs": [],
   "source": [
    "age_fillna = df_train.Age.mean()\n",
    "embarked_fillna = df_train.Embarked.value_counts().index[0]\n",
    "\n",
    "\n",
    "df_train.Age = df_train.Age.fillna(df.Age.mean())\n",
    "df_train.Embarked = df_train.Embarked.fillna(embarked_fillna)\n",
    "\n",
    "df_test.Age = df_test.Age.fillna(df.Age.mean())\n",
    "df_test.Embarked = df_test.Embarked.fillna(embarked_fillna)"
   ]
  },
  {
   "cell_type": "code",
   "execution_count": 4,
   "metadata": {
    "collapsed": true
   },
   "outputs": [],
   "source": [
    "le = dict()\n",
    "for column in df_train.columns:\n",
    "    if df_train[column].dtype == np.object:\n",
    "        le[column] = LabelEncoder()\n",
    "        df_train[column] = le[column].fit_transform(df_train[column])\n",
    "        \n",
    "for column in df_test.columns:\n",
    "    if df_test[column].dtype == np.object:\n",
    "        df_test[column] = le[column].transform(df_test[column])"
   ]
  },
  {
   "cell_type": "code",
   "execution_count": 5,
   "metadata": {},
   "outputs": [
    {
     "data": {
      "text/plain": [
       "['./model/model.pkl']"
      ]
     },
     "execution_count": 5,
     "metadata": {},
     "output_type": "execute_result"
    }
   ],
   "source": [
    "model = RandomForestClassifier(n_estimators=25, random_state=42)\n",
    "model.fit(X=df_train, y=y_train)\n",
    "# y_pred = model.predict(X=df_test)\n",
    "# print(confusion_matrix(y_test, y_pred))\n",
    "# print(f1_score(y_test, y_pred))\n",
    "from sklearn.externals import joblib\n",
    "joblib.dump(model, './model/model.pkl') "
   ]
  },
  {
   "cell_type": "code",
   "execution_count": 9,
   "metadata": {},
   "outputs": [
    {
     "data": {
      "text/html": [
       "<div>\n",
       "<style scoped>\n",
       "    .dataframe tbody tr th:only-of-type {\n",
       "        vertical-align: middle;\n",
       "    }\n",
       "\n",
       "    .dataframe tbody tr th {\n",
       "        vertical-align: top;\n",
       "    }\n",
       "\n",
       "    .dataframe thead th {\n",
       "        text-align: right;\n",
       "    }\n",
       "</style>\n",
       "<table border=\"1\" class=\"dataframe\">\n",
       "  <thead>\n",
       "    <tr style=\"text-align: right;\">\n",
       "      <th></th>\n",
       "      <th>Pclass</th>\n",
       "      <th>Sex</th>\n",
       "      <th>Age</th>\n",
       "      <th>SibSp</th>\n",
       "      <th>Parch</th>\n",
       "      <th>Fare</th>\n",
       "      <th>Embarked</th>\n",
       "    </tr>\n",
       "  </thead>\n",
       "  <tbody>\n",
       "    <tr>\n",
       "      <th>709</th>\n",
       "      <td>3</td>\n",
       "      <td>1</td>\n",
       "      <td>29.699118</td>\n",
       "      <td>1</td>\n",
       "      <td>1</td>\n",
       "      <td>15.2458</td>\n",
       "      <td>0</td>\n",
       "    </tr>\n",
       "    <tr>\n",
       "      <th>439</th>\n",
       "      <td>2</td>\n",
       "      <td>1</td>\n",
       "      <td>31.000000</td>\n",
       "      <td>0</td>\n",
       "      <td>0</td>\n",
       "      <td>10.5000</td>\n",
       "      <td>2</td>\n",
       "    </tr>\n",
       "    <tr>\n",
       "      <th>840</th>\n",
       "      <td>3</td>\n",
       "      <td>1</td>\n",
       "      <td>20.000000</td>\n",
       "      <td>0</td>\n",
       "      <td>0</td>\n",
       "      <td>7.9250</td>\n",
       "      <td>2</td>\n",
       "    </tr>\n",
       "    <tr>\n",
       "      <th>720</th>\n",
       "      <td>2</td>\n",
       "      <td>0</td>\n",
       "      <td>6.000000</td>\n",
       "      <td>0</td>\n",
       "      <td>1</td>\n",
       "      <td>33.0000</td>\n",
       "      <td>2</td>\n",
       "    </tr>\n",
       "    <tr>\n",
       "      <th>39</th>\n",
       "      <td>3</td>\n",
       "      <td>0</td>\n",
       "      <td>14.000000</td>\n",
       "      <td>1</td>\n",
       "      <td>0</td>\n",
       "      <td>11.2417</td>\n",
       "      <td>0</td>\n",
       "    </tr>\n",
       "  </tbody>\n",
       "</table>\n",
       "</div>"
      ],
      "text/plain": [
       "     Pclass  Sex        Age  SibSp  Parch     Fare  Embarked\n",
       "709       3    1  29.699118      1      1  15.2458         0\n",
       "439       2    1  31.000000      0      0  10.5000         2\n",
       "840       3    1  20.000000      0      0   7.9250         2\n",
       "720       2    0   6.000000      0      1  33.0000         2\n",
       "39        3    0  14.000000      1      0  11.2417         0"
      ]
     },
     "execution_count": 9,
     "metadata": {},
     "output_type": "execute_result"
    }
   ],
   "source": [
    "df_test.head()"
   ]
  },
  {
   "cell_type": "code",
   "execution_count": 29,
   "metadata": {},
   "outputs": [
    {
     "data": {
      "text/plain": [
       "0.47999999999999998"
      ]
     },
     "execution_count": 29,
     "metadata": {},
     "output_type": "execute_result"
    }
   ],
   "source": [
    "predict_request = [3, 0, 6.0, 0, 1, 33.0, 2]\n",
    "predict_request = np.array(predict_request).reshape(1, -1)\n",
    "model.predict_proba(predict_request)[0][1]"
   ]
  },
  {
   "cell_type": "code",
   "execution_count": 10,
   "metadata": {},
   "outputs": [
    {
     "data": {
      "text/plain": [
       "709    1\n",
       "439    0\n",
       "840    0\n",
       "720    1\n",
       "39     1\n",
       "Name: Survived, dtype: int64"
      ]
     },
     "execution_count": 10,
     "metadata": {},
     "output_type": "execute_result"
    }
   ],
   "source": [
    "y_test.head()"
   ]
  },
  {
   "cell_type": "code",
   "execution_count": 19,
   "metadata": {},
   "outputs": [
    {
     "data": {
      "text/plain": [
       "array([[ 0.56      ,  0.44      ],\n",
       "       [ 0.96      ,  0.04      ],\n",
       "       [ 0.91333333,  0.08666667],\n",
       "       [ 0.        ,  1.        ],\n",
       "       [ 0.64      ,  0.36      ],\n",
       "       [ 0.08      ,  0.92      ],\n",
       "       [ 0.17735498,  0.82264502],\n",
       "       [ 0.93333333,  0.06666667],\n",
       "       [ 0.24      ,  0.76      ],\n",
       "       [ 0.04      ,  0.96      ],\n",
       "       [ 0.72      ,  0.28      ],\n",
       "       [ 0.92      ,  0.08      ],\n",
       "       [ 0.96      ,  0.04      ],\n",
       "       [ 1.        ,  0.        ],\n",
       "       [ 0.82866667,  0.17133333],\n",
       "       [ 0.        ,  1.        ],\n",
       "       [ 0.88      ,  0.12      ],\n",
       "       [ 0.05142857,  0.94857143],\n",
       "       [ 0.92      ,  0.08      ],\n",
       "       [ 0.88      ,  0.12      ],\n",
       "       [ 1.        ,  0.        ],\n",
       "       [ 0.57333333,  0.42666667],\n",
       "       [ 0.76      ,  0.24      ],\n",
       "       [ 1.        ,  0.        ],\n",
       "       [ 1.        ,  0.        ],\n",
       "       [ 0.96      ,  0.04      ],\n",
       "       [ 0.76      ,  0.24      ],\n",
       "       [ 0.952     ,  0.048     ],\n",
       "       [ 0.88      ,  0.12      ],\n",
       "       [ 0.48      ,  0.52      ],\n",
       "       [ 1.        ,  0.        ],\n",
       "       [ 0.28      ,  0.72      ],\n",
       "       [ 0.28      ,  0.72      ],\n",
       "       [ 0.48      ,  0.52      ],\n",
       "       [ 0.76666667,  0.23333333],\n",
       "       [ 0.68      ,  0.32      ],\n",
       "       [ 0.48      ,  0.52      ],\n",
       "       [ 0.17735498,  0.82264502],\n",
       "       [ 0.2       ,  0.8       ],\n",
       "       [ 1.        ,  0.        ],\n",
       "       [ 1.        ,  0.        ],\n",
       "       [ 0.84      ,  0.16      ],\n",
       "       [ 1.        ,  0.        ],\n",
       "       [ 0.87357687,  0.12642313],\n",
       "       [ 0.6       ,  0.4       ],\n",
       "       [ 0.84      ,  0.16      ],\n",
       "       [ 0.58      ,  0.42      ],\n",
       "       [ 1.        ,  0.        ],\n",
       "       [ 0.76      ,  0.24      ],\n",
       "       [ 0.64      ,  0.36      ],\n",
       "       [ 0.16      ,  0.84      ],\n",
       "       [ 0.08      ,  0.92      ],\n",
       "       [ 1.        ,  0.        ],\n",
       "       [ 0.2       ,  0.8       ],\n",
       "       [ 0.96      ,  0.04      ],\n",
       "       [ 0.        ,  1.        ],\n",
       "       [ 0.82      ,  0.18      ],\n",
       "       [ 0.04      ,  0.96      ],\n",
       "       [ 0.        ,  1.        ],\n",
       "       [ 0.92      ,  0.08      ],\n",
       "       [ 0.72      ,  0.28      ],\n",
       "       [ 0.        ,  1.        ],\n",
       "       [ 0.12      ,  0.88      ],\n",
       "       [ 0.92      ,  0.08      ],\n",
       "       [ 0.87357687,  0.12642313],\n",
       "       [ 0.        ,  1.        ],\n",
       "       [ 0.88      ,  0.12      ],\n",
       "       [ 0.84      ,  0.16      ],\n",
       "       [ 0.72      ,  0.28      ],\n",
       "       [ 0.        ,  1.        ],\n",
       "       [ 0.        ,  1.        ],\n",
       "       [ 0.12      ,  0.88      ],\n",
       "       [ 0.24      ,  0.76      ],\n",
       "       [ 0.        ,  1.        ],\n",
       "       [ 1.        ,  0.        ],\n",
       "       [ 0.96      ,  0.04      ],\n",
       "       [ 0.17735498,  0.82264502],\n",
       "       [ 0.        ,  1.        ],\n",
       "       [ 0.        ,  1.        ],\n",
       "       [ 0.48      ,  0.52      ],\n",
       "       [ 1.        ,  0.        ],\n",
       "       [ 0.        ,  1.        ],\n",
       "       [ 0.        ,  1.        ],\n",
       "       [ 0.99      ,  0.01      ],\n",
       "       [ 0.44      ,  0.56      ],\n",
       "       [ 0.48      ,  0.52      ],\n",
       "       [ 0.        ,  1.        ],\n",
       "       [ 0.04      ,  0.96      ],\n",
       "       [ 0.88      ,  0.12      ],\n",
       "       [ 1.        ,  0.        ],\n",
       "       [ 0.36      ,  0.64      ],\n",
       "       [ 0.96      ,  0.04      ],\n",
       "       [ 0.96      ,  0.04      ],\n",
       "       [ 0.99      ,  0.01      ],\n",
       "       [ 1.        ,  0.        ],\n",
       "       [ 0.88      ,  0.12      ],\n",
       "       [ 0.92      ,  0.08      ],\n",
       "       [ 0.92      ,  0.08      ],\n",
       "       [ 0.        ,  1.        ],\n",
       "       [ 0.4       ,  0.6       ],\n",
       "       [ 0.88      ,  0.12      ],\n",
       "       [ 1.        ,  0.        ],\n",
       "       [ 0.04      ,  0.96      ],\n",
       "       [ 1.        ,  0.        ],\n",
       "       [ 1.        ,  0.        ],\n",
       "       [ 0.36      ,  0.64      ],\n",
       "       [ 0.        ,  1.        ],\n",
       "       [ 0.92      ,  0.08      ],\n",
       "       [ 0.92      ,  0.08      ],\n",
       "       [ 0.56      ,  0.44      ],\n",
       "       [ 0.        ,  1.        ],\n",
       "       [ 0.96      ,  0.04      ],\n",
       "       [ 0.04      ,  0.96      ],\n",
       "       [ 0.12      ,  0.88      ],\n",
       "       [ 0.80666667,  0.19333333],\n",
       "       [ 1.        ,  0.        ],\n",
       "       [ 0.44      ,  0.56      ],\n",
       "       [ 0.532     ,  0.468     ],\n",
       "       [ 0.        ,  1.        ],\n",
       "       [ 0.88      ,  0.12      ],\n",
       "       [ 0.76      ,  0.24      ],\n",
       "       [ 0.        ,  1.        ],\n",
       "       [ 0.        ,  1.        ],\n",
       "       [ 0.36      ,  0.64      ],\n",
       "       [ 0.92      ,  0.08      ],\n",
       "       [ 0.8       ,  0.2       ],\n",
       "       [ 0.        ,  1.        ],\n",
       "       [ 0.48      ,  0.52      ],\n",
       "       [ 0.64      ,  0.36      ],\n",
       "       [ 1.        ,  0.        ],\n",
       "       [ 0.01142857,  0.98857143],\n",
       "       [ 0.56      ,  0.44      ],\n",
       "       [ 1.        ,  0.        ],\n",
       "       [ 0.24      ,  0.76      ],\n",
       "       [ 0.32      ,  0.68      ],\n",
       "       [ 0.84      ,  0.16      ],\n",
       "       [ 0.        ,  1.        ],\n",
       "       [ 0.62133333,  0.37866667],\n",
       "       [ 0.96      ,  0.04      ],\n",
       "       [ 0.76      ,  0.24      ],\n",
       "       [ 1.        ,  0.        ],\n",
       "       [ 0.04      ,  0.96      ],\n",
       "       [ 0.88      ,  0.12      ],\n",
       "       [ 1.        ,  0.        ],\n",
       "       [ 0.76      ,  0.24      ],\n",
       "       [ 0.        ,  1.        ],\n",
       "       [ 1.        ,  0.        ],\n",
       "       [ 0.28      ,  0.72      ],\n",
       "       [ 0.2       ,  0.8       ],\n",
       "       [ 0.88      ,  0.12      ],\n",
       "       [ 0.93047619,  0.06952381],\n",
       "       [ 0.84      ,  0.16      ],\n",
       "       [ 0.76      ,  0.24      ],\n",
       "       [ 0.32      ,  0.68      ],\n",
       "       [ 1.        ,  0.        ],\n",
       "       [ 0.96      ,  0.04      ],\n",
       "       [ 0.50333333,  0.49666667],\n",
       "       [ 0.15449784,  0.84550216],\n",
       "       [ 0.04      ,  0.96      ],\n",
       "       [ 0.08      ,  0.92      ],\n",
       "       [ 0.88      ,  0.12      ],\n",
       "       [ 0.8       ,  0.2       ],\n",
       "       [ 0.81666667,  0.18333333],\n",
       "       [ 0.04      ,  0.96      ],\n",
       "       [ 0.90464646,  0.09535354],\n",
       "       [ 0.64      ,  0.36      ],\n",
       "       [ 1.        ,  0.        ],\n",
       "       [ 0.        ,  1.        ],\n",
       "       [ 1.        ,  0.        ],\n",
       "       [ 1.        ,  0.        ],\n",
       "       [ 0.8       ,  0.2       ],\n",
       "       [ 0.08133333,  0.91866667],\n",
       "       [ 0.12      ,  0.88      ],\n",
       "       [ 0.48      ,  0.52      ],\n",
       "       [ 0.93333333,  0.06666667],\n",
       "       [ 1.        ,  0.        ],\n",
       "       [ 0.96      ,  0.04      ],\n",
       "       [ 0.        ,  1.        ],\n",
       "       [ 0.16      ,  0.84      ]])"
      ]
     },
     "execution_count": 19,
     "metadata": {},
     "output_type": "execute_result"
    }
   ],
   "source": [
    "y_pred_prob = model.predict_proba(df_test)\n",
    "y_pred_prob"
   ]
  },
  {
   "cell_type": "code",
   "execution_count": 15,
   "metadata": {},
   "outputs": [
    {
     "data": {
      "text/plain": [
       "array([0, 0, 0, 1, 0, 1, 1, 0, 1, 1], dtype=int64)"
      ]
     },
     "execution_count": 15,
     "metadata": {},
     "output_type": "execute_result"
    }
   ],
   "source": [
    "y_pred = model.predict(df_test)\n",
    "y_pred[:10]"
   ]
  }
 ],
 "metadata": {
  "kernelspec": {
   "display_name": "Python 3",
   "language": "python",
   "name": "python3"
  },
  "language_info": {
   "codemirror_mode": {
    "name": "ipython",
    "version": 3
   },
   "file_extension": ".py",
   "mimetype": "text/x-python",
   "name": "python",
   "nbconvert_exporter": "python",
   "pygments_lexer": "ipython3",
   "version": "3.6.2"
  }
 },
 "nbformat": 4,
 "nbformat_minor": 2
}
